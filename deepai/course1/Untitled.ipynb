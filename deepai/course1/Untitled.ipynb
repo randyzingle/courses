{
 "cells": [
  {
   "cell_type": "code",
   "execution_count": 1,
   "metadata": {},
   "outputs": [
    {
     "name": "stdout",
     "output_type": "stream",
     "text": [
      "[1 2 3]\n"
     ]
    }
   ],
   "source": [
    "import numpy as np\n",
    "\n",
    "a = np.array([1,2,3])\n",
    "print(a)"
   ]
  },
  {
   "cell_type": "code",
   "execution_count": 21,
   "metadata": {},
   "outputs": [
    {
     "name": "stdout",
     "output_type": "stream",
     "text": [
      "1249424.12198\n",
      "Vectorized version: 3.6144256591796875 ms\n",
      "1249424.12198\n",
      "For Loop version: 1358.8511943817139 ms\n",
      "Ratio Loop/Vector: 375.95217678100266\n"
     ]
    }
   ],
   "source": [
    "import time\n",
    "\n",
    "size = 5000000\n",
    "a = np.random.rand(size)\n",
    "b = np.random.rand(size)\n",
    "\n",
    "tic = time.time()\n",
    "c = np.dot(a,b)\n",
    "toc = time.time()\n",
    "print(c)\n",
    "\n",
    "print(\"Vectorized version: \" + str(1000*(toc-tic))+\" ms\")\n",
    "t1 = (toc-tic)\n",
    "\n",
    "tic = time.time()\n",
    "c = 0\n",
    "for i in range(size):\n",
    "    c += a[i]*b[i]\n",
    "toc = time.time()\n",
    "print(c)\n",
    "t2 = (toc-tic)\n",
    "\n",
    "print (\"For Loop version: \" + str(1000*(toc-tic))+\" ms\")\n",
    "\n",
    "print(\"Ratio Loop/Vector: \" + str(t2/t1))"
   ]
  },
  {
   "cell_type": "code",
   "execution_count": null,
   "metadata": {},
   "outputs": [],
   "source": []
  },
  {
   "cell_type": "code",
   "execution_count": null,
   "metadata": {},
   "outputs": [],
   "source": []
  },
  {
   "cell_type": "code",
   "execution_count": null,
   "metadata": {},
   "outputs": [],
   "source": []
  }
 ],
 "metadata": {
  "kernelspec": {
   "display_name": "Python 3",
   "language": "python",
   "name": "python3"
  },
  "language_info": {
   "codemirror_mode": {
    "name": "ipython",
    "version": 3
   },
   "file_extension": ".py",
   "mimetype": "text/x-python",
   "name": "python",
   "nbconvert_exporter": "python",
   "pygments_lexer": "ipython3",
   "version": "3.5.2"
  }
 },
 "nbformat": 4,
 "nbformat_minor": 2
}
