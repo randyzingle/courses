{
 "cells": [
  {
   "cell_type": "code",
   "execution_count": 1,
   "metadata": {
    "collapsed": false
   },
   "outputs": [
    {
     "name": "stdout",
     "output_type": "stream",
     "text": [
      "[1 2 3 4 5]\n"
     ]
    }
   ],
   "source": [
    "import numpy as np\n",
    "\n",
    "a = np.array([1,2,3,4,5])\n",
    "print(a)\n",
    "\n",
    "# hit Shift-Enter to execute code blocks"
   ]
  },
  {
   "cell_type": "code",
   "execution_count": 5,
   "metadata": {
    "collapsed": false
   },
   "outputs": [
    {
     "name": "stdout",
     "output_type": "stream",
     "text": [
      "249799.129927\n",
      "Vectorized version: 1.0211467742919922 ms\n",
      "249799.129927\n",
      "Loop version: 446.32411003112793 ms\n",
      "Vectorized code is 437.08125145925754 faster than Loop code.\n"
     ]
    }
   ],
   "source": [
    "# test vectorization speed vs for loops\n",
    "import time\n",
    "\n",
    "one_million = 1000000\n",
    "a = np.random.rand(one_million)\n",
    "b = np.random.rand(one_million)\n",
    "\n",
    "# vectorized version\n",
    "startTime = time.time()\n",
    "c = np.dot(a,b)\n",
    "endTime = time.time()\n",
    "elapsedTimeV = endTime-startTime\n",
    "print(c)\n",
    "print(\"Vectorized version: \" + str(1000*(elapsedTimeV)) + \" ms\")\n",
    "\n",
    "# for loop version\n",
    "c = 0\n",
    "startTime = time.time()\n",
    "for i in range(one_million):\n",
    "    c += a[i]*b[i]\n",
    "endTime = time.time()\n",
    "elapsedTimeL = endTime-startTime\n",
    "print(c)\n",
    "print(\"Loop version: \" + str(1000*(elapsedTimeL)) + \" ms\")\n",
    "\n",
    "print(\"Vectorized code is \" + str(elapsedTimeL/elapsedTimeV) + \" faster than Loop code.\")"
   ]
  },
  {
   "cell_type": "code",
   "execution_count": 16,
   "metadata": {
    "collapsed": false
   },
   "outputs": [
    {
     "name": "stdout",
     "output_type": "stream",
     "text": [
      "[   54.59815003     7.3890561   1096.63315843   403.42879349   148.4131591\n",
      "    54.59815003    20.08553692  1096.63315843  2980.95798704]\n",
      "[ 1.38629436  0.69314718  1.94591015  1.79175947  1.60943791  1.38629436\n",
      "  1.09861229  1.94591015  2.07944154]\n",
      "[4 2 7 6 5 4 3 7 8]\n",
      "[5 5 7 6 5 5 5 7 8]\n",
      "[16  4 49 36 25 16  9 49 64]\n",
      "[ 0.25        0.5         0.14285714  0.16666667  0.2         0.25\n",
      "  0.33333333  0.14285714  0.125     ]\n"
     ]
    }
   ],
   "source": [
    "x = np.array([4,2,7,6,5,4,3,7,8])\n",
    "\n",
    "# exponential operator\n",
    "x1 = np.exp(x)\n",
    "print(x1)\n",
    "\n",
    "# log\n",
    "x1 = np.log(x)\n",
    "print(x1)\n",
    "\n",
    "x1 = abs(x)\n",
    "print(x1)\n",
    "\n",
    "# for each element in the array choose the array element if it is >5\n",
    "x1 = np.maximum(x, 5)\n",
    "print(x1)\n",
    "\n",
    "# x squared\n",
    "x1 = x**2\n",
    "print(x1)\n",
    "\n",
    "# 1/x\n",
    "x1 = 1/x\n",
    "print(x1)"
   ]
  },
  {
   "cell_type": "code",
   "execution_count": 17,
   "metadata": {
    "collapsed": false
   },
   "outputs": [
    {
     "name": "stdout",
     "output_type": "stream",
     "text": [
      "[[  56.     0.     4.4   68. ]\n",
      " [   1.2  104.    52.     8. ]\n",
      " [   1.8  135.    99.     0.9]]\n"
     ]
    }
   ],
   "source": [
    "# Broadcasting in python\n",
    "\n",
    "A = np.array([[56.0, 0.0, 4.4, 68.0],\n",
    "            [1.2, 104.0, 52.0, 8.0],\n",
    "            [1.8, 135.0, 99.0, 0.9]])\n",
    "print(A)"
   ]
  },
  {
   "cell_type": "code",
   "execution_count": 18,
   "metadata": {
    "collapsed": false
   },
   "outputs": [
    {
     "name": "stdout",
     "output_type": "stream",
     "text": [
      "[  59.   239.   155.4   76.9]\n"
     ]
    }
   ],
   "source": [
    "# sum the columns of this 4x3 matrix (axis=0)\n",
    "cal = A.sum(axis=0)\n",
    "print(cal)"
   ]
  },
  {
   "cell_type": "code",
   "execution_count": 21,
   "metadata": {
    "collapsed": false
   },
   "outputs": [
    {
     "name": "stdout",
     "output_type": "stream",
     "text": [
      "(4,)\n",
      "(1, 4)\n",
      "[[  59.   239.   155.4   76.9]]\n"
     ]
    }
   ],
   "source": [
    "print(cal.shape)\n",
    "x = cal.reshape(1,4)\n",
    "print(x.shape)\n",
    "print(x)"
   ]
  },
  {
   "cell_type": "code",
   "execution_count": 23,
   "metadata": {
    "collapsed": false
   },
   "outputs": [
    {
     "name": "stdout",
     "output_type": "stream",
     "text": [
      "[[ 94.91525424   0.           2.83140283  88.42652796]\n",
      " [  2.03389831  43.51464435  33.46203346  10.40312094]\n",
      " [  3.05084746  56.48535565  63.70656371   1.17035111]]\n"
     ]
    }
   ],
   "source": [
    "percent = 100 * A / cal # or we could have used cal.reshape(1,4)\n",
    "print(percent)"
   ]
  },
  {
   "cell_type": "code",
   "execution_count": 25,
   "metadata": {
    "collapsed": false
   },
   "outputs": [
    {
     "name": "stdout",
     "output_type": "stream",
     "text": [
      "[[ 0.5985158 ]\n",
      " [ 0.28362438]\n",
      " [ 1.0278999 ]\n",
      " [-0.40457259]\n",
      " [-0.51235644]]\n",
      "[[ 0.5985158   0.28362438  1.0278999  -0.40457259 -0.51235644]]\n"
     ]
    }
   ],
   "source": [
    "a = np.random.randn(5,1)\n",
    "print(a)\n",
    "print(a.T)"
   ]
  },
  {
   "cell_type": "code",
   "execution_count": 26,
   "metadata": {
    "collapsed": false
   },
   "outputs": [
    {
     "name": "stdout",
     "output_type": "stream",
     "text": [
      "[[ 0.35822117  0.16975367  0.61521434 -0.24214309 -0.30665342]\n",
      " [ 0.16975367  0.08044279  0.29153747 -0.11474665 -0.14531678]\n",
      " [ 0.61521434  0.29153747  1.05657821 -0.41586013 -0.52665113]\n",
      " [-0.24214309 -0.11474665 -0.41586013  0.16367898  0.20728537]\n",
      " [-0.30665342 -0.14531678 -0.52665113  0.20728537  0.26250912]]\n"
     ]
    }
   ],
   "source": [
    "print(np.dot(a,a.T))"
   ]
  },
  {
   "cell_type": "code",
   "execution_count": 28,
   "metadata": {
    "collapsed": false
   },
   "outputs": [
    {
     "name": "stdout",
     "output_type": "stream",
     "text": [
      "0.35822116284964006\n",
      "0.16975367269520403\n"
     ]
    }
   ],
   "source": [
    "print(str(0.5985158*0.5985158))\n",
    "print(str(0.28362438*0.5985158))"
   ]
  },
  {
   "cell_type": "code",
   "execution_count": 35,
   "metadata": {
    "collapsed": false
   },
   "outputs": [
    {
     "name": "stdout",
     "output_type": "stream",
     "text": [
      "(5, 5)\n"
     ]
    }
   ],
   "source": [
    "b = np.dot(a,a.T)\n",
    "assert(b.shape==(5,5))\n",
    "print(b.shape)"
   ]
  },
  {
   "cell_type": "code",
   "execution_count": null,
   "metadata": {
    "collapsed": true
   },
   "outputs": [],
   "source": []
  }
 ],
 "metadata": {
  "kernelspec": {
   "display_name": "Python [conda root]",
   "language": "python",
   "name": "conda-root-py"
  },
  "language_info": {
   "codemirror_mode": {
    "name": "ipython",
    "version": 3
   },
   "file_extension": ".py",
   "mimetype": "text/x-python",
   "name": "python",
   "nbconvert_exporter": "python",
   "pygments_lexer": "ipython3",
   "version": "3.5.2"
  }
 },
 "nbformat": 4,
 "nbformat_minor": 1
}
