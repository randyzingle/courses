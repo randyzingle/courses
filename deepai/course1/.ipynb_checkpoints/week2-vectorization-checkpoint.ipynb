{
 "cells": [
  {
   "cell_type": "code",
   "execution_count": 1,
   "metadata": {
    "collapsed": false
   },
   "outputs": [
    {
     "name": "stdout",
     "output_type": "stream",
     "text": [
      "[1 2 3 4 5]\n"
     ]
    }
   ],
   "source": [
    "import numpy as np\n",
    "\n",
    "a = np.array([1,2,3,4,5])\n",
    "print(a)\n",
    "\n",
    "# hit Shift-Enter to execute code blocks"
   ]
  },
  {
   "cell_type": "code",
   "execution_count": 3,
   "metadata": {
    "collapsed": false
   },
   "outputs": [
    {
     "name": "stdout",
     "output_type": "stream",
     "text": [
      "250189.038156\n",
      "Vectorized version:1.1141300201416016ms\n"
     ]
    }
   ],
   "source": [
    "# test vectorization speed vs for loops\n",
    "import time\n",
    "\n",
    "one_million = 1000000\n",
    "a = np.random.rand(one_million)\n",
    "b = np.random.rand(one_million)\n",
    "\n",
    "# vectorized version\n",
    "startTime = time.time()\n",
    "c = np.dot(a,b)\n",
    "endTime = time.time()\n",
    "elapsedTimeV = endTime-startTime\n",
    "print(c)\n",
    "print(\"Vectorized version: \" + str(1000*(elapsedTimeV)) + \" ms\")\n",
    "\n",
    "# for loop version\n",
    "c = 0\n",
    "startTime = time.time()\n",
    "for i in range(one_million):\n",
    "    c += a[i]*b[i]\n",
    "endTime = time.time()\n",
    "elapsedTimeL = endTime-startTime\n",
    "print(c)\n",
    "print(\"Loop version: \" + str(1000*(elapsedTimeL)) + \" ms\")\n",
    "\n",
    "print(\"Vectorized code is \" + str(elapsedTimeL/elapsedTimeV) + \" faster than Loop code.\")"
   ]
  },
  {
   "cell_type": "code",
   "execution_count": null,
   "metadata": {
    "collapsed": true
   },
   "outputs": [],
   "source": []
  }
 ],
 "metadata": {
  "kernelspec": {
   "display_name": "Python [conda root]",
   "language": "python",
   "name": "conda-root-py"
  },
  "language_info": {
   "codemirror_mode": {
    "name": "ipython",
    "version": 3
   },
   "file_extension": ".py",
   "mimetype": "text/x-python",
   "name": "python",
   "nbconvert_exporter": "python",
   "pygments_lexer": "ipython3",
   "version": "3.5.2"
  }
 },
 "nbformat": 4,
 "nbformat_minor": 1
}
