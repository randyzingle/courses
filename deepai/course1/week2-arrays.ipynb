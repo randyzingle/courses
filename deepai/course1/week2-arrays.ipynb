{
 "cells": [
  {
   "cell_type": "markdown",
   "metadata": {},
   "source": [
    "## Regular Python Arrays"
   ]
  },
  {
   "cell_type": "code",
   "execution_count": 4,
   "metadata": {},
   "outputs": [
    {
     "name": "stdout",
     "output_type": "stream",
     "text": [
      "[1, 2, 3, 4, 5]\n",
      "5\n",
      "3\n",
      "5\n"
     ]
    }
   ],
   "source": [
    "# simple pyton array\n",
    "x = [1,2,3,4,5]\n",
    "print(x)\n",
    "print(len(x))\n",
    "print(x[2])\n",
    "# count backwards from end\n",
    "print(x[-1])"
   ]
  },
  {
   "cell_type": "code",
   "execution_count": 10,
   "metadata": {},
   "outputs": [
    {
     "name": "stdout",
     "output_type": "stream",
     "text": [
      "[1, 2, 3, 4, 5, 6]\n",
      "[1, 2, 3, 4, 5, 6, 'a']\n",
      "[1, 2, 3, 4, 5, 6]\n",
      "[100, 2, 3, 4, 5, 6]\n"
     ]
    }
   ],
   "source": [
    "# add to the end\n",
    "x = [1,2,3,4,5]\n",
    "x.append(6)\n",
    "print(x)\n",
    "x.append('a') # python arrays do not constrain type\n",
    "print(x)\n",
    "x.remove('a')\n",
    "print(x)\n",
    "x[0] = 100\n",
    "print(x)"
   ]
  },
  {
   "cell_type": "code",
   "execution_count": 14,
   "metadata": {},
   "outputs": [
    {
     "name": "stdout",
     "output_type": "stream",
     "text": [
      "[100, 2]\n",
      "[100, 2, 3, 4]\n",
      "[5, 6]\n"
     ]
    }
   ],
   "source": [
    "# get a 'slice' of an array by specifying a range with the : delimiter [start:end-exclusive]\n",
    "y = x[0:2]\n",
    "print(y)\n",
    "# print everything up to index\n",
    "y = x[:4]\n",
    "print(y)\n",
    "# print everything from the index on\n",
    "y = x[4:]\n",
    "print(y)"
   ]
  },
  {
   "cell_type": "markdown",
   "metadata": {},
   "source": [
    "## Numpy Arrays"
   ]
  },
  {
   "cell_type": "code",
   "execution_count": 15,
   "metadata": {},
   "outputs": [
    {
     "name": "stdout",
     "output_type": "stream",
     "text": [
      "[ 0  1  2  3  4  5  6  7  8  9 10 11 12 13 14]\n"
     ]
    }
   ],
   "source": [
    "import numpy as np\n",
    "\n",
    "x = np.arange(15)\n",
    "print(x)"
   ]
  },
  {
   "cell_type": "code",
   "execution_count": 18,
   "metadata": {},
   "outputs": [
    {
     "name": "stdout",
     "output_type": "stream",
     "text": [
      "[[ 0  1  2  3  4]\n",
      " [ 5  6  7  8  9]\n",
      " [10 11 12 13 14]]\n",
      "(3, 5)\n",
      "2\n",
      "int64\n"
     ]
    }
   ],
   "source": [
    "x = x.reshape(3,5)\n",
    "print(x)\n",
    "print(x.shape)\n",
    "print(x.ndim)\n",
    "print(x.dtype) # numpy arrays do enforce type"
   ]
  },
  {
   "cell_type": "code",
   "execution_count": 24,
   "metadata": {},
   "outputs": [
    {
     "name": "stdout",
     "output_type": "stream",
     "text": [
      "[0 1 2]\n",
      "[0 1 2]\n",
      "(3,)\n"
     ]
    }
   ],
   "source": [
    "b = np.array([0,1,2])\n",
    "print(b)\n",
    "print(b.T)\n",
    "print(b.shape)"
   ]
  },
  {
   "cell_type": "code",
   "execution_count": 31,
   "metadata": {},
   "outputs": [
    {
     "name": "stdout",
     "output_type": "stream",
     "text": [
      "[[0 1 2]]\n",
      "[[0]\n",
      " [1]\n",
      " [2]]\n",
      "[[ 0  0  0  0  0]\n",
      " [ 5  6  7  8  9]\n",
      " [20 22 24 26 28]]\n",
      "[[ 0  2  4  6  8]\n",
      " [10 12 14 16 18]\n",
      " [20 22 24 26 28]]\n"
     ]
    }
   ],
   "source": [
    "b = np.array([0,1,2]).reshape(1,3)\n",
    "print(b)\n",
    "print(b.T)\n",
    "print(b.T*x)\n",
    "print(x*2)"
   ]
  },
  {
   "cell_type": "code",
   "execution_count": 32,
   "metadata": {},
   "outputs": [
    {
     "name": "stdout",
     "output_type": "stream",
     "text": [
      "[[ 0.          0.84147098  0.90929743]]\n"
     ]
    }
   ],
   "source": [
    "print(np.sin(b))"
   ]
  },
  {
   "cell_type": "code",
   "execution_count": 41,
   "metadata": {},
   "outputs": [
    {
     "name": "stdout",
     "output_type": "stream",
     "text": [
      "[[ 0  1  2  3  4]\n",
      " [ 5  6  7  8  9]\n",
      " [10 11 12 13 14]]\n",
      "105\n",
      "[10 35 60]\n",
      "[[10]\n",
      " [35]\n",
      " [60]]\n",
      "[[15 18 21 24 27]]\n"
     ]
    }
   ],
   "source": [
    "print(x)\n",
    "y = x.sum()\n",
    "print(y)\n",
    "y = np.sum(x, axis=1)\n",
    "print(y)\n",
    "y = np.sum(x, axis=1, keepdims=True)\n",
    "print(y)\n",
    "y = np.sum(x, axis=0, keepdims=True)\n",
    "print(y)"
   ]
  },
  {
   "cell_type": "code",
   "execution_count": 59,
   "metadata": {},
   "outputs": [
    {
     "name": "stdout",
     "output_type": "stream",
     "text": [
      "[0 1 2 3 4 5 6 7 8 9]\n",
      "2\n",
      "[1 2 3]\n",
      "10\n"
     ]
    }
   ],
   "source": [
    "# slicing and indexing numpy arrays\n",
    "a = np.arange(10)\n",
    "print(a)\n",
    "print(a[2]) # standard indexing\n",
    "print(a[1:4])\n",
    "print(len(a))"
   ]
  },
  {
   "cell_type": "code",
   "execution_count": 60,
   "metadata": {},
   "outputs": [
    {
     "name": "stdout",
     "output_type": "stream",
     "text": [
      "[0 1 2 3 4 5 6 7 8 9]\n",
      "[-10 -10 -10 -10 -10 -10   6   7   8   9]\n",
      "10\n"
     ]
    }
   ],
   "source": [
    "# set every element up to 6 to -10\n",
    "b = np.arange(10)\n",
    "b[0:6] = -10 # could have used b[:6]\n",
    "print(a)\n",
    "print(b)\n",
    "print(len(b))"
   ]
  },
  {
   "cell_type": "code",
   "execution_count": 61,
   "metadata": {},
   "outputs": [
    {
     "name": "stdout",
     "output_type": "stream",
     "text": [
      "[0 1 2 3 4 5 6 7 8 9]\n",
      "[-10   1 -10   3 -10   5 -10   7 -10   9]\n"
     ]
    }
   ],
   "source": [
    "# set every second element equal to -10\n",
    "b = np.arange(10)\n",
    "print(b)\n",
    "b[:9:2] = -10\n",
    "print(b)"
   ]
  },
  {
   "cell_type": "code",
   "execution_count": 62,
   "metadata": {},
   "outputs": [
    {
     "name": "stdout",
     "output_type": "stream",
     "text": [
      "[[ 0  1  2  3]\n",
      " [10 11 12 13]\n",
      " [20 21 22 23]\n",
      " [30 31 32 33]\n",
      " [40 41 42 43]]\n"
     ]
    }
   ],
   "source": [
    "def f(x,y):\n",
    "    return 10*x+y\n",
    "\n",
    "b = np.fromfunction(f,(5,4),dtype=int)\n",
    "print(b)"
   ]
  },
  {
   "cell_type": "code",
   "execution_count": 63,
   "metadata": {},
   "outputs": [
    {
     "name": "stdout",
     "output_type": "stream",
     "text": [
      "21\n"
     ]
    }
   ],
   "source": [
    "print(b[2,1])"
   ]
  },
  {
   "cell_type": "code",
   "execution_count": 64,
   "metadata": {},
   "outputs": [
    {
     "name": "stdout",
     "output_type": "stream",
     "text": [
      "[ 0 10 20 30 40]\n"
     ]
    }
   ],
   "source": [
    "print(b[0:5, 0])"
   ]
  },
  {
   "cell_type": "code",
   "execution_count": 65,
   "metadata": {},
   "outputs": [
    {
     "name": "stdout",
     "output_type": "stream",
     "text": [
      "[ 1 11 21 31 41]\n"
     ]
    }
   ],
   "source": [
    "print(b[:, 1])"
   ]
  },
  {
   "cell_type": "code",
   "execution_count": 66,
   "metadata": {},
   "outputs": [
    {
     "name": "stdout",
     "output_type": "stream",
     "text": [
      "[11 21]\n"
     ]
    }
   ],
   "source": [
    "print(b[1:3, 1])"
   ]
  },
  {
   "cell_type": "code",
   "execution_count": 67,
   "metadata": {},
   "outputs": [
    {
     "name": "stdout",
     "output_type": "stream",
     "text": [
      "[[10 11 12 13]\n",
      " [20 21 22 23]]\n"
     ]
    }
   ],
   "source": [
    "print(b[1:3, :])"
   ]
  },
  {
   "cell_type": "code",
   "execution_count": 68,
   "metadata": {},
   "outputs": [
    {
     "name": "stdout",
     "output_type": "stream",
     "text": [
      "[0 1 2 3]\n"
     ]
    }
   ],
   "source": [
    "# missing indices are considered complete slices\n",
    "print(b[0])"
   ]
  },
  {
   "cell_type": "code",
   "execution_count": 69,
   "metadata": {},
   "outputs": [
    {
     "name": "stdout",
     "output_type": "stream",
     "text": [
      "[[ 0  1  2  3]\n",
      " [10 11 12 13]\n",
      " [20 21 22 23]\n",
      " [30 31 32 33]\n",
      " [40 41 42 43]]\n",
      "[0 1 2 3]\n",
      "[10 11 12 13]\n",
      "[20 21 22 23]\n",
      "[30 31 32 33]\n",
      "[40 41 42 43]\n"
     ]
    }
   ],
   "source": [
    "print(b)\n",
    "for row in b:\n",
    "    print(row)"
   ]
  },
  {
   "cell_type": "code",
   "execution_count": 77,
   "metadata": {},
   "outputs": [
    {
     "name": "stdout",
     "output_type": "stream",
     "text": [
      "[[ 0.35531311  0.81728166  0.9576532 ]\n",
      " [ 0.39596145  0.000998    0.04595778]]\n",
      "(2, 3)\n",
      "[[ 0.35531311  0.81728166]\n",
      " [ 0.9576532   0.39596145]\n",
      " [ 0.000998    0.04595778]]\n",
      "(3, 2)\n"
     ]
    }
   ],
   "source": [
    "b = np.random.random((2,3))\n",
    "print(b)\n",
    "print(b.shape)\n",
    "b = b.reshape(3,2)\n",
    "print(b)\n",
    "print(b.shape)"
   ]
  },
  {
   "cell_type": "code",
   "execution_count": 78,
   "metadata": {
    "collapsed": true
   },
   "outputs": [],
   "source": [
    "# python functions vs numpy"
   ]
  },
  {
   "cell_type": "code",
   "execution_count": 82,
   "metadata": {},
   "outputs": [
    {
     "name": "stdout",
     "output_type": "stream",
     "text": [
      "0.7310585786300049\n",
      "0.8807970779778823\n",
      "0.9525741268224334\n"
     ]
    }
   ],
   "source": [
    "# python - operates on one element at a time\n",
    "import math\n",
    "def p_sigmoid(x):\n",
    "    s = 1 / (1 + math.exp(-x))\n",
    "    return s\n",
    "\n",
    "x = [1,2,3]\n",
    "for y in x:\n",
    "    print(p_sigmoid(y))"
   ]
  },
  {
   "cell_type": "code",
   "execution_count": 83,
   "metadata": {},
   "outputs": [
    {
     "name": "stdout",
     "output_type": "stream",
     "text": [
      "[ 0.73105858  0.88079708  0.95257413]\n"
     ]
    }
   ],
   "source": [
    "# numpy operates on arrays\n",
    "def np_sigmoid(x):\n",
    "    s = 1 / (1 + np.exp(-x))\n",
    "    return s\n",
    "\n",
    "x = np.array([1,2,3])\n",
    "print(np_sigmoid(x))"
   ]
  },
  {
   "cell_type": "code",
   "execution_count": 85,
   "metadata": {},
   "outputs": [
    {
     "name": "stdout",
     "output_type": "stream",
     "text": [
      "[ 0.19661193  0.10499359  0.04517666]\n"
     ]
    }
   ],
   "source": [
    "# sigmoid derivative\n",
    "def der_sig(x):\n",
    "    b = np_sigmoid(x) * (1 - np_sigmoid(x))\n",
    "    return b\n",
    "\n",
    "print (der_sig(x))"
   ]
  },
  {
   "cell_type": "code",
   "execution_count": 86,
   "metadata": {},
   "outputs": [
    {
     "name": "stdout",
     "output_type": "stream",
     "text": [
      "[[0 3 4]\n",
      " [2 6 4]]\n"
     ]
    }
   ],
   "source": [
    "# some math x / ||x||\n",
    "x = np.array([[0,3,4], [2,6,4]])\n",
    "print(x)"
   ]
  },
  {
   "cell_type": "code",
   "execution_count": 97,
   "metadata": {},
   "outputs": [
    {
     "name": "stdout",
     "output_type": "stream",
     "text": [
      "[[ 5.        ]\n",
      " [ 7.48331477]]\n"
     ]
    }
   ],
   "source": [
    "xx = np.linalg.norm(x, axis=1, keepdims=True)\n",
    "print(xx)"
   ]
  },
  {
   "cell_type": "code",
   "execution_count": 98,
   "metadata": {},
   "outputs": [
    {
     "name": "stdout",
     "output_type": "stream",
     "text": [
      "5.0\n",
      "7.483314773547883\n"
     ]
    }
   ],
   "source": [
    "# what the above is doing ...\n",
    "y = math.sqrt(sum(x[0]**2))\n",
    "print(y)\n",
    "y = math.sqrt(sum(x[1]**2))\n",
    "print(y)"
   ]
  },
  {
   "cell_type": "code",
   "execution_count": 99,
   "metadata": {},
   "outputs": [
    {
     "name": "stdout",
     "output_type": "stream",
     "text": [
      "[[ 0.          0.6         0.8       ]\n",
      " [ 0.26726124  0.80178373  0.53452248]]\n"
     ]
    }
   ],
   "source": [
    "xnorm = x / xx\n",
    "print(xnorm)"
   ]
  },
  {
   "cell_type": "code",
   "execution_count": 100,
   "metadata": {},
   "outputs": [
    {
     "name": "stdout",
     "output_type": "stream",
     "text": [
      "[1 2 3 4 5]\n",
      "[1 2 3 4 5]\n"
     ]
    }
   ],
   "source": [
    "x1 = np.array([1,2,3,4,5])\n",
    "x2 = np.array([1,2,3,4,5])\n",
    "print(x1)\n",
    "print(x2)"
   ]
  },
  {
   "cell_type": "code",
   "execution_count": 101,
   "metadata": {},
   "outputs": [
    {
     "name": "stdout",
     "output_type": "stream",
     "text": [
      "55\n"
     ]
    }
   ],
   "source": [
    "print(np.dot(x1,x2))"
   ]
  },
  {
   "cell_type": "code",
   "execution_count": 102,
   "metadata": {},
   "outputs": [
    {
     "name": "stdout",
     "output_type": "stream",
     "text": [
      "[[ 1  2  3  4  5]\n",
      " [ 2  4  6  8 10]\n",
      " [ 3  6  9 12 15]\n",
      " [ 4  8 12 16 20]\n",
      " [ 5 10 15 20 25]]\n"
     ]
    }
   ],
   "source": [
    "print(np.outer(x1,x2))"
   ]
  },
  {
   "cell_type": "code",
   "execution_count": 106,
   "metadata": {},
   "outputs": [
    {
     "name": "stdout",
     "output_type": "stream",
     "text": [
      "[ 1  4  9 16 25]\n",
      "[ 1  4  9 16 25]\n"
     ]
    }
   ],
   "source": [
    "# element-wise multiplication\n",
    "print(x1*x2)\n",
    "print(np.multiply(x1,x2))"
   ]
  },
  {
   "cell_type": "code",
   "execution_count": 110,
   "metadata": {},
   "outputs": [
    {
     "name": "stdout",
     "output_type": "stream",
     "text": [
      "[ 8 16 24 32 40]\n",
      "[1 2 3 4 5]\n",
      "[ 7 14 21 28 35]\n",
      "105\n"
     ]
    }
   ],
   "source": [
    "x1 = 2 * x1\n",
    "print(x1)\n",
    "print(x2)\n",
    "print(np.abs(x1-x2))\n",
    "s = np.sum(np.abs(x1-x2))\n",
    "print(s)"
   ]
  },
  {
   "cell_type": "code",
   "execution_count": 139,
   "metadata": {},
   "outputs": [
    {
     "name": "stdout",
     "output_type": "stream",
     "text": [
      "[[0 0 1 1 0 1 1 0 1 1]]\n",
      "(1, 10)\n",
      "[[ 0.01  0.01  0.8   0.99  0.01  0.69  0.99  0.11  0.99  0.99]]\n",
      "(1, 10)\n"
     ]
    }
   ],
   "source": [
    "y = np.array([0,0,1,1,0,1,1,0,1,1]).reshape(1,10)\n",
    "print(y)\n",
    "print(y.shape)\n",
    "a = np.array([.01,.01,.8,.99,.01,.69,.99,.11,.99,.99]).reshape(1,10)\n",
    "print(a)\n",
    "print(a.shape)"
   ]
  },
  {
   "cell_type": "code",
   "execution_count": 142,
   "metadata": {},
   "outputs": [
    {
     "name": "stdout",
     "output_type": "stream",
     "text": [
      "m: 10\n",
      "-0.781093399936\n",
      "0.0781093399936\n"
     ]
    }
   ],
   "source": [
    "# cost function as for loop\n",
    "c1 = 0\n",
    "m = y.shape[1]\n",
    "print(\"m: \" + str(m))\n",
    "for i in range(m):\n",
    "    c1 += y[0,i]*math.log(a[0,i]) + (1-y[0,i])*math.log(1-a[0,i])\n",
    "    \n",
    "print(c1)\n",
    "cost = -1 * c1 / m\n",
    "print(cost)"
   ]
  },
  {
   "cell_type": "code",
   "execution_count": 145,
   "metadata": {},
   "outputs": [
    {
     "name": "stdout",
     "output_type": "stream",
     "text": [
      "[[-0.01005034 -0.01005034 -0.22314355 -0.01005034 -0.01005034 -0.37106368\n",
      "  -0.01005034 -0.11653382 -0.01005034 -0.01005034]]\n",
      "[-0.7810934]\n",
      "[ 0.07810934]\n"
     ]
    }
   ],
   "source": [
    "# cost function with vector math\n",
    "cv = y*np.log(a) + (1-y)*np.log(1-a)\n",
    "print(cv)\n",
    "c1 = np.sum(cv, axis=1)\n",
    "print(c1)\n",
    "cost = (-1/m)*c1\n",
    "print(cost)"
   ]
  },
  {
   "cell_type": "code",
   "execution_count": 147,
   "metadata": {},
   "outputs": [
    {
     "name": "stdout",
     "output_type": "stream",
     "text": [
      "(108, 20)\n",
      "108\n"
     ]
    }
   ],
   "source": [
    "num_px = 6\n",
    "nx = num_px * num_px * 3\n",
    "mt = 20\n",
    "x = np.zeros(nx * 20).reshape(nx,mt)\n",
    "print(x.shape)\n",
    "print(x.shape[0])"
   ]
  },
  {
   "cell_type": "code",
   "execution_count": null,
   "metadata": {
    "collapsed": true
   },
   "outputs": [],
   "source": []
  }
 ],
 "metadata": {
  "kernelspec": {
   "display_name": "Python 3",
   "language": "python",
   "name": "python3"
  },
  "language_info": {
   "codemirror_mode": {
    "name": "ipython",
    "version": 3
   },
   "file_extension": ".py",
   "mimetype": "text/x-python",
   "name": "python",
   "nbconvert_exporter": "python",
   "pygments_lexer": "ipython3",
   "version": "3.6.3"
  }
 },
 "nbformat": 4,
 "nbformat_minor": 2
}
